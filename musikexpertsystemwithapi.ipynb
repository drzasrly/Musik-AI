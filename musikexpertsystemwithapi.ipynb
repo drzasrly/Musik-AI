{
  "nbformat": 4,
  "nbformat_minor": 0,
  "metadata": {
    "colab": {
      "provenance": [],
      "include_colab_link": true
    },
    "kernelspec": {
      "name": "python3",
      "display_name": "Python 3"
    },
    "language_info": {
      "name": "python"
    }
  },
  "cells": [
    {
      "cell_type": "markdown",
      "metadata": {
        "id": "view-in-github",
        "colab_type": "text"
      },
      "source": [
        "<a href=\"https://colab.research.google.com/github/drzasrly/Musik-AI/blob/main/musikexpertsystemwithapi.ipynb\" target=\"_parent\"><img src=\"https://colab.research.google.com/assets/colab-badge.svg\" alt=\"Open In Colab\"/></a>"
      ]
    },
    {
      "cell_type": "code",
      "execution_count": null,
      "metadata": {
        "id": "NjWAuiRuatMT",
        "colab": {
          "base_uri": "https://localhost:8080/"
        },
        "outputId": "1f3cc7e0-c4a1-4928-9fe3-aa3258a28239"
      },
      "outputs": [
        {
          "output_type": "stream",
          "name": "stdout",
          "text": [
            "Collecting spotipy\n",
            "  Downloading spotipy-2.24.0-py3-none-any.whl.metadata (4.9 kB)\n",
            "Collecting redis>=3.5.3 (from spotipy)\n",
            "  Downloading redis-5.2.0-py3-none-any.whl.metadata (9.1 kB)\n",
            "Requirement already satisfied: requests>=2.25.0 in /usr/local/lib/python3.10/dist-packages (from spotipy) (2.32.3)\n",
            "Requirement already satisfied: urllib3>=1.26.0 in /usr/local/lib/python3.10/dist-packages (from spotipy) (2.2.3)\n",
            "Requirement already satisfied: async-timeout>=4.0.3 in /usr/local/lib/python3.10/dist-packages (from redis>=3.5.3->spotipy) (4.0.3)\n",
            "Requirement already satisfied: charset-normalizer<4,>=2 in /usr/local/lib/python3.10/dist-packages (from requests>=2.25.0->spotipy) (3.4.0)\n",
            "Requirement already satisfied: idna<4,>=2.5 in /usr/local/lib/python3.10/dist-packages (from requests>=2.25.0->spotipy) (3.10)\n",
            "Requirement already satisfied: certifi>=2017.4.17 in /usr/local/lib/python3.10/dist-packages (from requests>=2.25.0->spotipy) (2024.8.30)\n",
            "Downloading spotipy-2.24.0-py3-none-any.whl (30 kB)\n",
            "Downloading redis-5.2.0-py3-none-any.whl (261 kB)\n",
            "\u001b[2K   \u001b[90m━━━━━━━━━━━━━━━━━━━━━━━━━━━━━━━━━━━━━━━━\u001b[0m \u001b[32m261.4/261.4 kB\u001b[0m \u001b[31m7.7 MB/s\u001b[0m eta \u001b[36m0:00:00\u001b[0m\n",
            "\u001b[?25hInstalling collected packages: redis, spotipy\n",
            "Successfully installed redis-5.2.0 spotipy-2.24.0\n"
          ]
        }
      ],
      "source": [
        "!pip install spotipy"
      ]
    },
    {
      "cell_type": "code",
      "source": [
        "from spotipy.oauth2 import SpotifyOAuth\n",
        "import spotipy\n",
        "\n",
        "# Konfigurasi API Spotify\n",
        "CLIENT_ID = \"9ee59620f9cf44fb823d4a50a53815d6\"\n",
        "CLIENT_SECRET = \"bb856563e8354242b4e3e30a7c6c6005\"\n",
        "REDIRECT_URI = \"http://localhost:8888/callback\"\n",
        "\n",
        "scope = \"user-modify-playback-state user-read-playback-state\"\n",
        "sp = spotipy.Spotify(auth_manager=SpotifyOAuth(client_id=CLIENT_ID,\n",
        "                                               client_secret=CLIENT_SECRET,\n",
        "                                               redirect_uri=REDIRECT_URI,\n",
        "                                               scope=scope))\n",
        "\n",
        "class Node:\n",
        "    def __init__(self, question, yes_node=None, no_node=None, diagnosis=None):\n",
        "        self.question = question\n",
        "        self.yes_node = yes_node\n",
        "        self.no_node = no_node\n",
        "        self.diagnosis = diagnosis\n",
        "\n",
        "def build_tree():\n",
        "    node37 = Node(None, diagnosis=\"Rhoma Irama - Begadang https://open.spotify.com/track/5TFBJunwkbdRjnUzKaZeJt?si=d36ed22275414ae6\")\n",
        "    node36 = Node(None, diagnosis=\"Mansur S - Rembulan Bersinar Lagi https://open.spotify.com/track/3tGw3HmpTuOVGGv4hAIRi5?si=6e1705919c8b4310\")\n",
        "    node35 = Node(None, diagnosis=\"Cobalah dengarkan genre musik lainnya\")\n",
        "    node34 = Node(\"Apakah anda suka dangdut religius?\", yes_node=node36, no_node=node37)\n",
        "    node33 = Node(None, diagnosis=\"Ndarboy Genk - Mendung Tanpo Udan https://open.spotify.com/track/0Z54rUZ81Vn0qphFR3jXUb?si=33ae474c7e3c4735\")\n",
        "    node32 = Node(None, diagnosis=\"Via Vallen - Sayang https://open.spotify.com/track/2DS8YXttgkleTop6REApdY?si=09cbaac35f924902\")\n",
        "    node31 = Node(None, diagnosis=\"Beristirahtalah, semoga lekas membaik moodmu\")\n",
        "    node30 = Node(None, diagnosis=\"Surfaces - Sunday Best https://open.spotify.com/track/1qYKWcEOrh2tM8PlgIm8K1?si=fd3377d21df14386\")\n",
        "    node29 = Node(None, diagnosis=\"Tiara Andini - Kupu-Kupu https://open.spotify.com/track/1PuhA9UXgH4wRnXzYk5S2Z?si=d5d228da1f36440c\")\n",
        "    node28 = Node(None, diagnosis=\"Pharrell Williams - Happy https://open.spotify.com/track/6NPVjNh8Jhru9xOmyQigds?si=1a83eba141824a8a\")\n",
        "    node27 = Node(\"Apakah anda suka dangdut klasik?\", yes_node=node34, no_node=node35)\n",
        "    node26 = Node(\"Apakah anda sedang bersantai?\", yes_node=node32, no_node=node33)\n",
        "    node25 = Node(None, diagnosis=\"The Beatles - Yesterday https://open.spotify.com/track/3BQHpFgAp4l80e1XslIjNI?si=f5c15fddd7be414b\")\n",
        "    node24 = Node(None, diagnosis=\"Eric Clapton - Wonderful Tonight https://open.spotify.com/track/6zC0mpGYwbNTpk9SKwh08f?si=c8125e73ef954c3c\")\n",
        "    node23 = Node(None, diagnosis=\"Public Enemy - Fight The Power https://open.spotify.com/track/1yo16b3u0lptm6Cs7lx4AD?si=9c6c09e920094ae8\")\n",
        "    node22 = Node(None, diagnosis=\"Green Day - American Idiot https://open.spotify.com/track/6nTiIhLmQ3FWhvrGafw2zj?si=b47cea680f624d05\")\n",
        "    node21 = Node(None, diagnosis=\"Jessi - Zoom https://open.spotify.com/track/4IaxDf2FixiQXq0mW7key9?si=db13c20763c845c7\")\n",
        "    node20 = Node(None, diagnosis=\"Big Bang - Bang Bang Bang https://open.spotify.com/track/3dI59jLoFMjMAyUAyRZnkE?si=9b0fabdcc1f64b89\")\n",
        "    node19 = Node(None, diagnosis=\"Baiklah, anda sepertinya butuh istirahat\")\n",
        "    node18 = Node(None, diagnosis=\"Yura Yunita - Dunia Tipu-Tipu https://open.spotify.com/track/0mMqopQJOWADJSPRMYkvTF?si=d872ee6874a149ec\")\n",
        "    node17 = Node(\"Apakah anda ingin lagu yang berirama santai?\", yes_node=node30, no_node=node31)\n",
        "    node16 = Node(\"Apakah anda ingin mendengarkan lagu barat?\", yes_node=node28, no_node=node29)\n",
        "    node15 = Node(None, diagnosis=\"Beristirahatlah\")\n",
        "    node14 = Node(\"Apakah anda suka dangdut modern?\", yes_node=node26, no_node=node27)\n",
        "    node13 = Node(\"Apakah anda sedang jatuh cinta?\", yes_node=node24, no_node=node25)\n",
        "    node12 = Node(\"Apakah mood anda sedang buruk?\", yes_node=node22, no_node=node23)\n",
        "    node11 = Node(None, diagnosis=\"Anda tidak suka musik POP\")\n",
        "    node10 = Node(\"Apakah anda suka lagu yang powerful?\", yes_node=node20, no_node=node21)\n",
        "    node9 = Node(\"Apakah anda ingin mendengarkan lagu yang bisa menenangkan perasaan anda?\", yes_node=node18, no_node=node19)\n",
        "    node8 = Node(\"Apakah anda ingin mendengarkan lagu yang ceria dan penuh semangat?\", yes_node=node16, no_node=node17)\n",
        "    node7 = Node(\"Apakah anda suka dangdut?\", yes_node=node14, no_node=node15)\n",
        "    node6 = Node(\"Apakah kamu suka lagu rock bernuansa sosial?\", yes_node=node12, no_node=node13)\n",
        "    node5 = Node(\"Apakah anda suka kpop?\", yes_node=node10, no_node=node11)\n",
        "    node4 = Node(\"Apakah mood anda hari ini bahagia?\", yes_node=node8, no_node=node9)\n",
        "    node3 = Node(\"Apakah anda suka musik folk?\", yes_node=node6, no_node=node7)\n",
        "    node2 = Node(\"Apakah anda suka musik rnb?\", yes_node=node4, no_node=node5)\n",
        "    node1 = Node(\"Apakah anda suka genre pop?\", yes_node=node2, no_node=node3)\n",
        "\n",
        "    return node1\n",
        "\n",
        "def play_song_from_uri(uri):\n",
        "    devices = sp.devices()\n",
        "    if not devices['devices']:\n",
        "        print(\"Tidak ada perangkat Spotify aktif.\")\n",
        "        return\n",
        "\n",
        "    device_id = devices['devices'][0]['id']\n",
        "    sp.start_playback(device_id=device_id, uris=[uri])\n",
        "    print(\"Lagu diputar di Spotify!\")\n",
        "\n",
        "def diagnose_symptoms(node):\n",
        "    while node.question:\n",
        "        answer = input(node.question + \" (yes/no): \").lower()\n",
        "        if answer == \"yes\":\n",
        "            node = node.yes_node\n",
        "        elif answer == \"no\":\n",
        "            node = node.no_node\n",
        "        else:\n",
        "            print(\"Input tidak valid. Silakan jawab dengan 'yes' atau 'no'.\")\n",
        "\n",
        "    if node.diagnosis:\n",
        "        print(\"Rekomendasi Lagu: \", node.diagnosis)\n",
        "        if \"open.spotify.com/track/\" in node.diagnosis:\n",
        "            uri = node.diagnosis.split(\"track/\")[1].split(\"?\")[0]\n",
        "            play_song_from_uri(f\"spotify:track:{uri}\")\n",
        "\n",
        "def main():\n",
        "    print(\"Welcome to MUSIK Expert System\")\n",
        "    root = build_tree()\n",
        "    diagnose_symptoms(root)\n",
        "\n",
        "if __name__ == '__main__':\n",
        "    main()"
      ],
      "metadata": {
        "colab": {
          "base_uri": "https://localhost:8080/"
        },
        "id": "XE2Kw5rtrnI9",
        "outputId": "09c57eae-4f51-4af6-c952-5365a33403b0"
      },
      "execution_count": null,
      "outputs": [
        {
          "output_type": "stream",
          "name": "stdout",
          "text": [
            "Welcome to MUSIK Expert System\n",
            "Apakah anda suka genre pop? (yes/no): yes\n",
            "Apakah anda suka musik rnb? (yes/no): yes\n",
            "Apakah mood anda hari ini bahagia? (yes/no): yes\n",
            "Apakah anda ingin mendengarkan lagu yang ceria dan penuh semangat? (yes/no): yea\n",
            "Input tidak valid. Silakan jawab dengan 'yes' atau 'no'.\n",
            "Apakah anda ingin mendengarkan lagu yang ceria dan penuh semangat? (yes/no): yes\n",
            "Apakah anda ingin mendengarkan lagu barat? (yes/no): yes\n",
            "Rekomendasi Lagu:  Pharrell Williams - Happy https://open.spotify.com/track/6NPVjNh8Jhru9xOmyQigds?si=1a83eba141824a8a\n"
          ]
        }
      ]
    }
  ]
}