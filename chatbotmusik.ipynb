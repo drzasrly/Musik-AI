{
  "nbformat": 4,
  "nbformat_minor": 0,
  "metadata": {
    "colab": {
      "provenance": [],
      "include_colab_link": true
    },
    "kernelspec": {
      "name": "python3",
      "display_name": "Python 3"
    },
    "language_info": {
      "name": "python"
    }
  },
  "cells": [
    {
      "cell_type": "markdown",
      "metadata": {
        "id": "view-in-github",
        "colab_type": "text"
      },
      "source": [
        "<a href=\"https://colab.research.google.com/github/drzasrly/Musik-AI/blob/main/chatbotmusik.ipynb\" target=\"_parent\"><img src=\"https://colab.research.google.com/assets/colab-badge.svg\" alt=\"Open In Colab\"/></a>"
      ]
    },
    {
      "cell_type": "code",
      "execution_count": null,
      "metadata": {
        "id": "3Q6Btfv4SlSv"
      },
      "outputs": [],
      "source": [
        "class Node:\n",
        "    def __init__(self, question, yes_node=None, no_node=None, diagnosis=None):\n",
        "        self.question = question\n",
        "        self.yes_node = yes_node\n",
        "        self.no_node = no_node\n",
        "        self.diagnosis = diagnosis\n",
        "\n",
        "def build_tree():\n",
        "    # Tambahkan node akhir dengan tautan Spotify sebagai diagnosis\n",
        "    node37 = Node(None, diagnosis=\"Rhoma Irama - Begadang https://open.spotify.com/track/5TFBJunwkbdRjnUzKaZeJt?si=d36ed22275414ae6\")\n",
        "    node36 = Node(None, diagnosis=\"Mansur S - Rembulan Bersinar Lagi https://open.spotify.com/track/3tGw3HmpTuOVGGv4hAIRi5?si=6e1705919c8b4310\")\n",
        "    node35 = Node(None, diagnosis=\"Cobalah dengarkan genre musik lainnya\")\n",
        "    node34 = Node(\"Apakah anda suka dangdut religius?\", yes_node=node36, no_node=node37)\n",
        "    node33 = Node(None, diagnosis=\"Ndarboy Genk - Mendung Tanpo Udan https://open.spotify.com/track/0Z54rUZ81Vn0qphFR3jXUb?si=33ae474c7e3c4735\")\n",
        "    node32 = Node(None, diagnosis=\"Via Vallen - Sayang https://open.spotify.com/track/2DS8YXttgkleTop6REApdY?si=09cbaac35f924902\")\n",
        "    node31 = Node(None, diagnosis=\"Beristirahtalah, semoga lekas membaik moodmu\")\n",
        "    node30 = Node(None, diagnosis=\"Surfaces - Sunday Best https://open.spotify.com/track/1qYKWcEOrh2tM8PlgIm8K1?si=fd3377d21df14386\")\n",
        "    node29 = Node(None, diagnosis=\"Tiara Andini - Kupu-Kupu https://open.spotify.com/track/1PuhA9UXgH4wRnXzYk5S2Z?si=d5d228da1f36440c\")\n",
        "    node28 = Node(None, diagnosis=\"Pharrell Williams - Happy https://open.spotify.com/track/6NPVjNh8Jhru9xOmyQigds?si=1a83eba141824a8a\")\n",
        "    node27 = Node(\"Apakah anda suka dangdut klasik?\", yes_node=node34, no_node=node35)\n",
        "    node26 = Node(\"Apakah anda sedang bersantai?\", yes_node=node32, no_node=node33)\n",
        "    node25 = Node(None, diagnosis=\"The Beatles - Yesterday https://open.spotify.com/track/3BQHpFgAp4l80e1XslIjNI?si=f5c15fddd7be414b\")\n",
        "    node24 = Node(None, diagnosis=\"Eric Clapton - Wonderful Tonight https://open.spotify.com/track/6zC0mpGYwbNTpk9SKwh08f?si=c8125e73ef954c3c\")\n",
        "    node23 = Node(None, diagnosis=\"Public Enemy - Fight The Power https://open.spotify.com/track/1yo16b3u0lptm6Cs7lx4AD?si=9c6c09e920094ae8\")\n",
        "    node22 = Node(None, diagnosis=\"Green Day - American Idiot https://open.spotify.com/track/6nTiIhLmQ3FWhvrGafw2zj?si=b47cea680f624d05\")\n",
        "    node21 = Node(None, diagnosis=\"Jessi - Zoom https://open.spotify.com/track/4IaxDf2FixiQXq0mW7key9?si=db13c20763c845c7\")\n",
        "    node20 = Node(None, diagnosis=\"Big Bang - Bang Bang Bang https://open.spotify.com/track/3dI59jLoFMjMAyUAyRZnkE?si=9b0fabdcc1f64b89\")\n",
        "    node19 = Node(None, diagnosis=\"Baiklah, anda sepertinya butuh istirahat\")\n",
        "    node18 = Node(None, diagnosis=\"Yura Yunita - Dunia Tipu-Tipu https://open.spotify.com/track/0mMqopQJOWADJSPRMYkvTF?si=d872ee6874a149ec\")\n",
        "    node17 = Node(\"Apakah anda ingin lagu yang berirama santai?\", yes_node=node30, no_node=node31)\n",
        "    node16 = Node(\"Apakah anda ingin mendengarkan lagu barat?\", yes_node=node28, no_node=node29)\n",
        "    node15 = Node(None, diagnosis=\"Beristirahatlah\")\n",
        "    node14 = Node(\"Apakah anda suka dangdut modern?\", yes_node=node26, no_node=node27)\n",
        "    node13 = Node(\"Apakah anda sedang jatuh cinta?\", yes_node=node24, no_node=node25)\n",
        "    node12 = Node(\"Apakah mood anda sedang buruk?\", yes_node=node22, no_node=node23)\n",
        "    node11 = Node(None, diagnosis=\"Anda tidak suka musik POP\")\n",
        "    node10 = Node(\"Apakah anda suka lagu yang powerful?\", yes_node=node20, no_node=node21)\n",
        "    node9 = Node(\"Apakah anda ingin mendengarkan lagu yang bisa menenangkan perasaan anda?\", yes_node=node18, no_node=node19)\n",
        "    node8 = Node(\"Apakah anda ingin mendengarkan lagu yang ceria dan penuh semangat?\", yes_node=node16, no_node=node17)\n",
        "    node7 = Node(\"Apakah anda suka dangdut?\", yes_node=node14, no_node=node15)\n",
        "    node6 = Node(\"Apakah kamu suka lagu rock bernuansa sosial?\", yes_node=node12, no_node=node13)\n",
        "    node5 = Node(\"Apakah anda suka kpop?\", yes_node=node10, no_node=node11)\n",
        "    node4 = Node(\"Apakah mood anda hari ini bahagia?\", yes_node=node8, no_node=node9)\n",
        "    node3 = Node(\"Apakah anda suka musik folk?\", yes_node=node6, no_node=node7)\n",
        "    node2 = Node(\"Apakah anda suka musik rnb?\", yes_node=node4, no_node=node5)\n",
        "    node1 = Node(\"Apakah anda suka genre pop?\", yes_node=node2, no_node=node3)\n",
        "\n",
        "    return node1\n",
        "\n",
        "def diagnose_symptoms(node):\n",
        "    while node.question:\n",
        "        answer = input(node.question + \" (yes/no): \").lower()\n",
        "        if answer == \"yes\":\n",
        "            node = node.yes_node\n",
        "        elif answer == \"no\":\n",
        "            node = node.no_node\n",
        "        else:\n",
        "            print(\"Input tidak valid. Silakan jawab dengan 'yes' atau 'no'.\")\n",
        "    print(\"Rekomendasi Lagu: \", node.diagnosis)\n",
        "\n",
        "def main():\n",
        "    print(\"Selamat datang di sistem pakar musik.\")\n",
        "    root = build_tree()\n",
        "    diagnose_symptoms(root)\n",
        "\n",
        "if __name__ == '__main__':\n",
        "    main()\n"
      ]
    },
    {
      "cell_type": "code",
      "source": [],
      "metadata": {
        "id": "2IM3KDZ1UHOf"
      },
      "execution_count": null,
      "outputs": []
    }
  ]
}