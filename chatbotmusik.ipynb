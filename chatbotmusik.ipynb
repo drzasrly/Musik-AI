{
  "nbformat": 4,
  "nbformat_minor": 0,
  "metadata": {
    "colab": {
      "provenance": [],
      "include_colab_link": true
    },
    "kernelspec": {
      "name": "python3",
      "display_name": "Python 3"
    },
    "language_info": {
      "name": "python"
    }
  },
  "cells": [
    {
      "cell_type": "markdown",
      "metadata": {
        "id": "view-in-github",
        "colab_type": "text"
      },
      "source": [
        "<a href=\"https://colab.research.google.com/github/drzasrly/Musik-AI/blob/main/chatbotmusik.ipynb\" target=\"_parent\"><img src=\"https://colab.research.google.com/assets/colab-badge.svg\" alt=\"Open In Colab\"/></a>"
      ]
    },
    {
      "cell_type": "code",
      "execution_count": null,
      "metadata": {
        "id": "3Q6Btfv4SlSv"
      },
      "outputs": [],
      "source": [
        "class Node:\n",
        "    def __init__(self, question, yes_node=None, no_node=None, diagnosis=None):\n",
        "        self.question = question\n",
        "        self.yes_node = yes_node\n",
        "        self.no_node = no_node\n",
        "        self.diagnosis = diagnosis\n",
        "\n",
        "def build_tree():\n",
        "    node34 = Node(\"Apakah anda suka dangdut religius?\", yes_node=node36, no_node=node37)\n",
        "    node27 = Node(\"Apakah anda suka dangdut klasik?\", yes_node=node34, no_node=node35)\n",
        "    node26 = Node(\"Apakah anda sedang bersantai?\", yes_node=node32, no_node=node33)\n",
        "    node17 = Node(\"Apakah anda ingin lagu yang berirama santai?\", yes_node=node30, no_node=node31)\n",
        "    node16 = Node(\"Apakah anda ingin mendengarkan lagu barat?\", yes_node=node28, no_node=node29)\n",
        "    node14 = Node(\"Apakah anda suka dangdut modern?\", yes_node=node26, no_node=node27)\n",
        "    node13 = Node(\"Apakah anda sedang jatuh cinta?\", yes_node=node24, no_node=node25)\n",
        "    node12 = Node(\"Apakah anda mood anda sedang buruk?\", yes_node=node22, no_node=node23)\n",
        "    node10 = Node(\"Apakah anda suka lagu yang powerful?\", yes_node=node20, no_node=node21)\n",
        "    node9 = Node(\"Apakah anda ingin mendengarkan lagu yang bisa menenangkan perasaan anda?\", yes_node=node18, no_node=node19)\n",
        "    node8 = Node(\"Apakah anda ingin mendengarkan lagu yang ceria dan penuh semangat?\", yes_node=node16, no_node=node17)\n",
        "    node7 = Node(\"Apakah anda suka dangdut?\", yes_node=node14, no_node=node15)\n",
        "    node6 = Node(\"Apakah kamu suka lagu rock bernuansa sosial?\", yes_node=node12, no_node=node13)\n",
        "    node5 = Node(\"Apakah anda suka kpop?\", yes_node=node10, no_node=node11)\n",
        "    node4 = Node(\"Apakah mood anda hari ini bahagia?\", yes_node=node8, no_node=node9)\n",
        "    node3 = Node(\"Apakah anda suka musik folk?\", yes_node=node6, no_node=node7)\n",
        "    node2 = Node(\"Apakah anda suka musik rnb?\", yes_node=node4, no_node=node5)\n",
        "    node1 = Node(\"Apakah anda suka genre pop?\", yes_node=node2, no_node=node3)\n",
        "\n",
        "    return node1\n",
        "\n",
        "def diagnose_symptoms(node):\n",
        "  while node.question:\n",
        "    answer = input(node.question + \"(yes/no) :\").lower()\n",
        "    if answer == \"yes\":\n",
        "      node = node.yes_node\n",
        "    elif answer == \"no\":\n",
        "      node = node.no_node\n",
        "    else:\n",
        "      print(\"Invalid input. please answer yes or no.\")\n",
        "  print(\"Diagnosis : \", node.diagnosis)\n",
        "\n"
      ]
    },
    {
      "cell_type": "code",
      "source": [
        "\n"
      ],
      "metadata": {
        "id": "2IM3KDZ1UHOf"
      },
      "execution_count": null,
      "outputs": []
    }
  ]
}